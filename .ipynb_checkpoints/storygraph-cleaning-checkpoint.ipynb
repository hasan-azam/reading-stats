{
 "cells": [
  {
   "cell_type": "markdown",
   "id": "239b2093-1fb1-4b37-be19-10e370cce92e",
   "metadata": {},
   "source": [
    "#Importing the raw Storygraph data and previewing it"
   ]
  },
  {
   "cell_type": "code",
   "execution_count": 48,
   "id": "1c0f6c63-7543-4cc5-83cd-79fa126fd7be",
   "metadata": {},
   "outputs": [
    {
     "name": "stdout",
     "output_type": "stream",
     "text": [
      "                                               Title                Authors  \\\n",
      "0                               Parable of the Sower      Octavia E. Butler   \n",
      "1  He/She/They: How We Talk About Gender and Why ...        Schuyler Bailar   \n",
      "2                The Hundred Years' War on Palestine         Rashid Khalidi   \n",
      "3                                           Piranesi         Susanna Clarke   \n",
      "4                                 Sea of Tranquility  Emily St. John Mandel   \n",
      "\n",
      "                                        Contributors       ISBN/UID  \\\n",
      "0                                                NaN  9780446675505   \n",
      "1                                                NaN  9780306831874   \n",
      "2                          Fajer Al-Kaisi (Narrator)  9781250769473   \n",
      "3                        Chiwetel Ejiofor (Narrator)  9781526622419   \n",
      "4  Kirsten Potter (Narrator), John Lee (Narrator)...  9780593552070   \n",
      "\n",
      "      Format Read Status  Date Added Last Date Read             Dates Read  \\\n",
      "0  paperback     to-read  2024/11/16            NaN                    NaN   \n",
      "1  hardcover     to-read  2024/11/02            NaN                    NaN   \n",
      "2      audio        read  2024/10/29     2024/10/29  2024/10/29-2024/10/29   \n",
      "3      audio        read  2024/08/27     2024/08/27  2024/08/27-2024/08/27   \n",
      "4      audio        read  2024/11/06     2024/11/06  2024/11/06-2024/11/06   \n",
      "\n",
      "   Read Count  ...  Strong Character Development?  Loveable Characters?  \\\n",
      "0           0  ...                            NaN                   NaN   \n",
      "1           0  ...                            NaN                   NaN   \n",
      "2           1  ...                            NaN                   NaN   \n",
      "3           1  ...                            NaN                   NaN   \n",
      "4           1  ...                            NaN                   NaN   \n",
      "\n",
      "   Diverse Characters?  Flawed Characters?  Star Rating  Review  \\\n",
      "0                  NaN                 NaN          NaN     NaN   \n",
      "1                  NaN                 NaN          NaN     NaN   \n",
      "2                  NaN                 NaN         4.25     NaN   \n",
      "3                  NaN                 NaN         4.25     NaN   \n",
      "4                  NaN                 NaN         3.50     NaN   \n",
      "\n",
      "   Content Warnings  Content Warning Description  Tags  Owned?  \n",
      "0               NaN                          NaN   NaN      No  \n",
      "1               NaN                          NaN   NaN      No  \n",
      "2               NaN                          NaN   NaN      No  \n",
      "3               NaN                          NaN   NaN      No  \n",
      "4               NaN                          NaN   NaN      No  \n",
      "\n",
      "[5 rows x 23 columns]\n"
     ]
    }
   ],
   "source": [
    "import pandas as pd\n",
    "from datetime import datetime\n",
    "import glob\n",
    "import os\n",
    "\n",
    "list_of_files = glob.glob('data/raw-data/books/*')\n",
    "latest_file =max(list_of_files, key=os.path.getctime)\n",
    "books_data = pd.read_csv(latest_file)\n",
    "\n",
    "# Load the dataset\n",
    "#books_data = pd.read_csv('data/raw-data/books/storygraph-data-11-23.csv')\n",
    "\n",
    "# Preview the data\n",
    "print(books_data.head())"
   ]
  },
  {
   "cell_type": "markdown",
   "id": "871d9f65-f31b-4e38-8183-ec9c9c8f714d",
   "metadata": {},
   "source": [
    "#Cleaning up the Data"
   ]
  },
  {
   "cell_type": "code",
   "execution_count": 49,
   "id": "8eb806a1-e0cb-48cf-8153-2231d8221d33",
   "metadata": {},
   "outputs": [
    {
     "data": {
      "text/html": [
       "<div>\n",
       "<style scoped>\n",
       "    .dataframe tbody tr th:only-of-type {\n",
       "        vertical-align: middle;\n",
       "    }\n",
       "\n",
       "    .dataframe tbody tr th {\n",
       "        vertical-align: top;\n",
       "    }\n",
       "\n",
       "    .dataframe thead th {\n",
       "        text-align: right;\n",
       "    }\n",
       "</style>\n",
       "<table border=\"1\" class=\"dataframe\">\n",
       "  <thead>\n",
       "    <tr style=\"text-align: right;\">\n",
       "      <th></th>\n",
       "      <th>Title</th>\n",
       "      <th>Authors</th>\n",
       "      <th>Format</th>\n",
       "      <th>Read Status</th>\n",
       "      <th>Dates Read</th>\n",
       "      <th>Star Rating</th>\n",
       "    </tr>\n",
       "  </thead>\n",
       "  <tbody>\n",
       "    <tr>\n",
       "      <th>0</th>\n",
       "      <td>Parable of the Sower</td>\n",
       "      <td>Octavia E. Butler</td>\n",
       "      <td>paperback</td>\n",
       "      <td>to-read</td>\n",
       "      <td>NaN</td>\n",
       "      <td>NaN</td>\n",
       "    </tr>\n",
       "    <tr>\n",
       "      <th>1</th>\n",
       "      <td>He/She/They: How We Talk About Gender and Why ...</td>\n",
       "      <td>Schuyler Bailar</td>\n",
       "      <td>hardcover</td>\n",
       "      <td>to-read</td>\n",
       "      <td>NaN</td>\n",
       "      <td>NaN</td>\n",
       "    </tr>\n",
       "    <tr>\n",
       "      <th>2</th>\n",
       "      <td>The Hundred Years' War on Palestine</td>\n",
       "      <td>Rashid Khalidi</td>\n",
       "      <td>audio</td>\n",
       "      <td>read</td>\n",
       "      <td>2024/10/29-2024/10/29</td>\n",
       "      <td>4.25</td>\n",
       "    </tr>\n",
       "    <tr>\n",
       "      <th>3</th>\n",
       "      <td>Piranesi</td>\n",
       "      <td>Susanna Clarke</td>\n",
       "      <td>audio</td>\n",
       "      <td>read</td>\n",
       "      <td>2024/08/27-2024/08/27</td>\n",
       "      <td>4.25</td>\n",
       "    </tr>\n",
       "    <tr>\n",
       "      <th>4</th>\n",
       "      <td>Sea of Tranquility</td>\n",
       "      <td>Emily St. John Mandel</td>\n",
       "      <td>audio</td>\n",
       "      <td>read</td>\n",
       "      <td>2024/11/06-2024/11/06</td>\n",
       "      <td>3.50</td>\n",
       "    </tr>\n",
       "  </tbody>\n",
       "</table>\n",
       "</div>"
      ],
      "text/plain": [
       "                                               Title                Authors  \\\n",
       "0                               Parable of the Sower      Octavia E. Butler   \n",
       "1  He/She/They: How We Talk About Gender and Why ...        Schuyler Bailar   \n",
       "2                The Hundred Years' War on Palestine         Rashid Khalidi   \n",
       "3                                           Piranesi         Susanna Clarke   \n",
       "4                                 Sea of Tranquility  Emily St. John Mandel   \n",
       "\n",
       "      Format Read Status             Dates Read  Star Rating  \n",
       "0  paperback     to-read                    NaN          NaN  \n",
       "1  hardcover     to-read                    NaN          NaN  \n",
       "2      audio        read  2024/10/29-2024/10/29         4.25  \n",
       "3      audio        read  2024/08/27-2024/08/27         4.25  \n",
       "4      audio        read  2024/11/06-2024/11/06         3.50  "
      ]
     },
     "execution_count": 49,
     "metadata": {},
     "output_type": "execute_result"
    }
   ],
   "source": [
    "# List of relevant columns to keep\n",
    "columns_to_keep = ['Title', 'Authors', 'Format', 'Read Status', 'Dates Read', 'Star Rating']\n",
    "\n",
    "# Drop all other columns\n",
    "books_data = books_data[columns_to_keep]\n",
    "\n",
    "# Verify the updated dataframe\n",
    "books_data.head()"
   ]
  },
  {
   "cell_type": "markdown",
   "id": "70793404-4ed3-4d79-96f5-7fdb9808d331",
   "metadata": {},
   "source": [
    "#Handling Missing Data"
   ]
  },
  {
   "cell_type": "code",
   "execution_count": 50,
   "id": "bed807ee-6e38-49e2-a25e-fd224255a038",
   "metadata": {},
   "outputs": [
    {
     "name": "stdout",
     "output_type": "stream",
     "text": [
      "Title           0\n",
      "Authors         0\n",
      "Format          0\n",
      "Read Status     0\n",
      "Dates Read     16\n",
      "Star Rating    16\n",
      "dtype: int64\n"
     ]
    }
   ],
   "source": [
    "print(books_data.isnull().sum())"
   ]
  },
  {
   "cell_type": "code",
   "execution_count": 51,
   "id": "854bb8b4-e580-40e3-b6c5-04f569f4e29e",
   "metadata": {},
   "outputs": [
    {
     "name": "stdout",
     "output_type": "stream",
     "text": [
      "Title           0\n",
      "Authors         0\n",
      "Format          0\n",
      "Read Status     0\n",
      "Dates Read      0\n",
      "Star Rating    16\n",
      "dtype: int64\n"
     ]
    }
   ],
   "source": [
    "books_data['Dates Read'] = books_data['Dates Read'].fillna('Not Read-Not Read')\n",
    "print(books_data.isnull().sum())"
   ]
  },
  {
   "cell_type": "code",
   "execution_count": 52,
   "id": "22d17fe2-1a69-440b-864b-a5402cb4a76c",
   "metadata": {},
   "outputs": [
    {
     "name": "stdout",
     "output_type": "stream",
     "text": [
      "                                                Title                Authors  \\\n",
      "0                                Parable of the Sower      Octavia E. Butler   \n",
      "1   He/She/They: How We Talk About Gender and Why ...        Schuyler Bailar   \n",
      "2                 The Hundred Years' War on Palestine         Rashid Khalidi   \n",
      "3                                            Piranesi         Susanna Clarke   \n",
      "4                                  Sea of Tranquility  Emily St. John Mandel   \n",
      "..                                                ...                    ...   \n",
      "61                                   And the Sky Bled                S. Hati   \n",
      "62   Heir to the Empire: The 20th Anniversary Edition           Timothy Zahn   \n",
      "63                        Wrath of the Triple Goddess           Rick Riordan   \n",
      "64                               The Eye of the World          Robert Jordan   \n",
      "65                                The Handmaid's Tale        Margaret Atwood   \n",
      "\n",
      "       Format Read Status             Dates Read  Star Rating  \n",
      "0   paperback     to-read      Not Read-Not Read          NaN  \n",
      "1   hardcover     to-read      Not Read-Not Read          NaN  \n",
      "2       audio        read  2024/10/29-2024/10/29         4.25  \n",
      "3       audio        read  2024/08/27-2024/08/27         4.25  \n",
      "4       audio        read  2024/11/06-2024/11/06         3.50  \n",
      "..        ...         ...                    ...          ...  \n",
      "61  paperback     to-read      Not Read-Not Read          NaN  \n",
      "62      audio        read  2024/10/24-2024/10/25         4.00  \n",
      "63      audio        read  2024/09/24-2024/09/24         3.75  \n",
      "64      audio        read  2024/10/09-2024/10/11         3.50  \n",
      "65      audio        read  2024/11/11-2024/11/12         4.00  \n",
      "\n",
      "[66 rows x 6 columns]\n"
     ]
    }
   ],
   "source": [
    "print(books_data)\n"
   ]
  },
  {
   "cell_type": "markdown",
   "id": "779c065f-fb0e-4666-b5ce-e9bee15ab00a",
   "metadata": {},
   "source": [
    "#Standardizing Data"
   ]
  },
  {
   "cell_type": "code",
   "execution_count": 53,
   "id": "dbfcea84-f0df-4716-805f-a3cc750b02ea",
   "metadata": {},
   "outputs": [
    {
     "name": "stdout",
     "output_type": "stream",
     "text": [
      "['to-read' 'read']\n",
      "['paperback' 'hardcover' 'audio' 'digital']\n"
     ]
    }
   ],
   "source": [
    "print(books_data['Read Status'].unique())\n",
    "print(books_data['Format'].unique())\n"
   ]
  },
  {
   "cell_type": "code",
   "execution_count": 54,
   "id": "eb5345ab-b0a1-4fc3-ad32-463600b40597",
   "metadata": {},
   "outputs": [],
   "source": [
    "# Standardize 'Read Status' and 'Format'\n",
    "books_data['Read Status'] = books_data['Read Status'].str.lower().str.strip()\n",
    "books_data['Format'] = books_data['Format'].str.lower().str.strip()\n",
    "\n",
    "\n"
   ]
  },
  {
   "cell_type": "code",
   "execution_count": 55,
   "id": "3e9c0d85-aa95-4978-9162-e66e01d51dc9",
   "metadata": {},
   "outputs": [
    {
     "name": "stdout",
     "output_type": "stream",
     "text": [
      "                                                Title                Authors  \\\n",
      "0                                Parable of the Sower      Octavia E. Butler   \n",
      "1   He/She/They: How We Talk About Gender and Why ...        Schuyler Bailar   \n",
      "2                 The Hundred Years' War on Palestine         Rashid Khalidi   \n",
      "3                                            Piranesi         Susanna Clarke   \n",
      "4                                  Sea of Tranquility  Emily St. John Mandel   \n",
      "..                                                ...                    ...   \n",
      "61                                   And the Sky Bled                S. Hati   \n",
      "62   Heir to the Empire: The 20th Anniversary Edition           Timothy Zahn   \n",
      "63                        Wrath of the Triple Goddess           Rick Riordan   \n",
      "64                               The Eye of the World          Robert Jordan   \n",
      "65                                The Handmaid's Tale        Margaret Atwood   \n",
      "\n",
      "       Format Read Status             Dates Read  Star Rating  \n",
      "0   paperback     to-read      Not Read-Not Read          NaN  \n",
      "1   hardcover     to-read      Not Read-Not Read          NaN  \n",
      "2       audio        read  2024/10/29-2024/10/29         4.25  \n",
      "3       audio        read  2024/08/27-2024/08/27         4.25  \n",
      "4       audio        read  2024/11/06-2024/11/06         3.50  \n",
      "..        ...         ...                    ...          ...  \n",
      "61  paperback     to-read      Not Read-Not Read          NaN  \n",
      "62      audio        read  2024/10/24-2024/10/25         4.00  \n",
      "63      audio        read  2024/09/24-2024/09/24         3.75  \n",
      "64      audio        read  2024/10/09-2024/10/11         3.50  \n",
      "65      audio        read  2024/11/11-2024/11/12         4.00  \n",
      "\n",
      "[66 rows x 6 columns]\n"
     ]
    }
   ],
   "source": [
    "print(books_data)\n"
   ]
  },
  {
   "cell_type": "code",
   "execution_count": 56,
   "id": "77e7cb6f-993e-4073-8a90-9caf349fcf99",
   "metadata": {},
   "outputs": [
    {
     "name": "stdout",
     "output_type": "stream",
     "text": [
      "Empty DataFrame\n",
      "Columns: [Title, Authors, Format, Read Status, Dates Read, Star Rating]\n",
      "Index: []\n"
     ]
    }
   ],
   "source": [
    "problematic_row = books_data[books_data['Dates Read'].str.split('-').apply(len) == 3]\n",
    "print(problematic_row)\n"
   ]
  },
  {
   "cell_type": "markdown",
   "id": "97003d09-0456-4e0f-b2b9-4fc6daa4e75b",
   "metadata": {},
   "source": [
    "#Identifying and Cleaning Inconsistent Dates Read"
   ]
  },
  {
   "cell_type": "code",
   "execution_count": 57,
   "id": "13e22e28-f610-49c1-9c42-50e322334090",
   "metadata": {},
   "outputs": [],
   "source": [
    "books_data['Dates Read'] = books_data['Dates Read'].str.split(',', n=1).str[0]\n"
   ]
  },
  {
   "cell_type": "code",
   "execution_count": 58,
   "id": "e8fcace1-bf8c-49e3-be51-1550b03ecad5",
   "metadata": {},
   "outputs": [],
   "source": [
    "books_data[['Date Started', 'Date Finished']] = books_data['Dates Read'].str.split('-', expand=True)\n"
   ]
  },
  {
   "cell_type": "code",
   "execution_count": 59,
   "id": "4c759e38-50c3-4e28-aefe-0aceb9c5f191",
   "metadata": {},
   "outputs": [
    {
     "name": "stderr",
     "output_type": "stream",
     "text": [
      "C:\\Users\\hasan\\AppData\\Local\\Temp\\ipykernel_8608\\921693697.py:1: UserWarning: Could not infer format, so each element will be parsed individually, falling back to `dateutil`. To ensure parsing is consistent and as-expected, please specify a format.\n",
      "  books_data['Date Started'] = pd.to_datetime(books_data['Date Started'], errors='coerce')\n",
      "C:\\Users\\hasan\\AppData\\Local\\Temp\\ipykernel_8608\\921693697.py:2: UserWarning: Could not infer format, so each element will be parsed individually, falling back to `dateutil`. To ensure parsing is consistent and as-expected, please specify a format.\n",
      "  books_data['Date Finished'] = pd.to_datetime(books_data['Date Finished'], errors='coerce')\n"
     ]
    }
   ],
   "source": [
    "books_data['Date Started'] = pd.to_datetime(books_data['Date Started'], errors='coerce')\n",
    "books_data['Date Finished'] = pd.to_datetime(books_data['Date Finished'], errors='coerce')\n"
   ]
  },
  {
   "cell_type": "code",
   "execution_count": 60,
   "id": "8531c98f-6fe2-4180-a633-49446d79a836",
   "metadata": {},
   "outputs": [
    {
     "name": "stdout",
     "output_type": "stream",
     "text": [
      "                                                Title                Authors  \\\n",
      "0                                Parable of the Sower      Octavia E. Butler   \n",
      "1   He/She/They: How We Talk About Gender and Why ...        Schuyler Bailar   \n",
      "2                 The Hundred Years' War on Palestine         Rashid Khalidi   \n",
      "3                                            Piranesi         Susanna Clarke   \n",
      "4                                  Sea of Tranquility  Emily St. John Mandel   \n",
      "..                                                ...                    ...   \n",
      "61                                   And the Sky Bled                S. Hati   \n",
      "62   Heir to the Empire: The 20th Anniversary Edition           Timothy Zahn   \n",
      "63                        Wrath of the Triple Goddess           Rick Riordan   \n",
      "64                               The Eye of the World          Robert Jordan   \n",
      "65                                The Handmaid's Tale        Margaret Atwood   \n",
      "\n",
      "       Format Read Status             Dates Read  Star Rating Date Started  \\\n",
      "0   paperback     to-read      Not Read-Not Read          NaN          NaT   \n",
      "1   hardcover     to-read      Not Read-Not Read          NaN          NaT   \n",
      "2       audio        read  2024/10/29-2024/10/29         4.25   2024-10-29   \n",
      "3       audio        read  2024/08/27-2024/08/27         4.25   2024-08-27   \n",
      "4       audio        read  2024/11/06-2024/11/06         3.50   2024-11-06   \n",
      "..        ...         ...                    ...          ...          ...   \n",
      "61  paperback     to-read      Not Read-Not Read          NaN          NaT   \n",
      "62      audio        read  2024/10/24-2024/10/25         4.00   2024-10-24   \n",
      "63      audio        read  2024/09/24-2024/09/24         3.75   2024-09-24   \n",
      "64      audio        read  2024/10/09-2024/10/11         3.50   2024-10-09   \n",
      "65      audio        read  2024/11/11-2024/11/12         4.00   2024-11-11   \n",
      "\n",
      "   Date Finished  \n",
      "0            NaT  \n",
      "1            NaT  \n",
      "2     2024-10-29  \n",
      "3     2024-08-27  \n",
      "4     2024-11-06  \n",
      "..           ...  \n",
      "61           NaT  \n",
      "62    2024-10-25  \n",
      "63    2024-09-24  \n",
      "64    2024-10-11  \n",
      "65    2024-11-12  \n",
      "\n",
      "[66 rows x 8 columns]\n"
     ]
    }
   ],
   "source": [
    "print(books_data)"
   ]
  },
  {
   "cell_type": "code",
   "execution_count": 61,
   "id": "24ea95be-f561-4784-9f03-1fe323a329b4",
   "metadata": {},
   "outputs": [],
   "source": [
    "# Dropping Dates Read Column\n",
    "books_data = books_data.drop(columns=['Dates Read'])\n"
   ]
  },
  {
   "cell_type": "code",
   "execution_count": 63,
   "id": "e380892e-c1e1-4f79-95da-45a177471220",
   "metadata": {},
   "outputs": [],
   "source": [
    "# Save the cleaned dataframe to a CSV file\n",
    "currentDateTime = datetime.now().strftime(\"%m-%d-%Y %H-%M-%S %p\")\n",
    "\n",
    "\n",
    "\n",
    "books_data.to_csv(f'data/cleaned-data/books/cleaned_books_data {currentDateTime}.csv', index=False)\n"
   ]
  },
  {
   "cell_type": "code",
   "execution_count": null,
   "id": "111cba21-8a6a-4eb6-9fb9-f28af07eb22e",
   "metadata": {},
   "outputs": [],
   "source": []
  }
 ],
 "metadata": {
  "kernelspec": {
   "display_name": "Python 3 (ipykernel)",
   "language": "python",
   "name": "python3"
  },
  "language_info": {
   "codemirror_mode": {
    "name": "ipython",
    "version": 3
   },
   "file_extension": ".py",
   "mimetype": "text/x-python",
   "name": "python",
   "nbconvert_exporter": "python",
   "pygments_lexer": "ipython3",
   "version": "3.12.0"
  }
 },
 "nbformat": 4,
 "nbformat_minor": 5
}
